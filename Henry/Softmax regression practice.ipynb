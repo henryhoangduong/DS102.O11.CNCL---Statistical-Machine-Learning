{
 "cells": [
  {
   "cell_type": "code",
   "execution_count": 21,
   "metadata": {},
   "outputs": [],
   "source": [
    "from scipy.io import arff\n",
    "import pandas as pd\n",
    "import numpy as np\n",
    "from sklearn.datasets import fetch_openml\n",
    "import matplotlib.pyplot as plt\n"
   ]
  },
  {
   "cell_type": "code",
   "execution_count": 22,
   "metadata": {},
   "outputs": [],
   "source": [
    "mnist = fetch_openml('mnist_784', version = 1,parser='auto')"
   ]
  },
  {
   "cell_type": "code",
   "execution_count": 24,
   "metadata": {},
   "outputs": [
    {
     "data": {
      "text/plain": [
       "(-0.5, 27.5, 27.5, -0.5)"
      ]
     },
     "execution_count": 24,
     "metadata": {},
     "output_type": "execute_result"
    },
    {
     "data": {
      "image/png": "[encoded data removed]",
      "text/plain": [
       "<Figure size 640x480 with 1 Axes>"
      ]
     },
     "metadata": {},
     "output_type": "display_data"
    }
   ],
   "source": [
    "shuffle_index = np.random.permutation(70000)\n",
    "X=mnist['data'].values[shuffle_index]/255\n",
    "Y= mnist[\"target\"][shuffle_index]\n",
    "\n",
    "x_train,x_test,y_train,y_test=X[:60000],X[60000:],Y[:60000],Y[60000:]\n",
    "digit = x_train[2500]\n",
    "image = digit.reshape(28,28)\n",
    "plt.imshow(image)\n",
    "plt.axis('off')"
   ]
  },
  {
   "cell_type": "code",
   "execution_count": 30,
   "metadata": {},
   "outputs": [],
   "source": [
    "def vectorized_compute_probabilities(X,theta):\n",
    "    #Arguements:\n",
    "    #X is (nxd) matrix (numpy array)\n",
    "    #theta is a kxd matrix\n",
    "\n",
    "    #Returns:\n",
    "    #H - a (kxn) matrix (numpy array) such that each column of H represents the probabilities that the ith \n",
    "    #data point takes on each label\n",
    "\n",
    "    theta_XT = np.matmul(theta, np.transpose(X))\n",
    "    #taking a columnwise max:\n",
    "    c = np.amax(theta_XT,axis=0)\n",
    "    #elementwise exponentation of theta_XT:\n",
    "    exp_matrix = np.exp(theta_XT-c)\n",
    "    #computing the normalization factors for each column of H:\n",
    "    sum_vector = np.sum(exp_matrix,axis=0)\n",
    "\n",
    "    #broadcasting\n",
    "    return exp_matrix/sum_vector"
   ]
  },
  {
   "cell_type": "code",
   "execution_count": 31,
   "metadata": {},
   "outputs": [],
   "source": [
    "theta = np.random.randint(0, 10, [10, x_train.shape[1]])"
   ]
  },
  {
   "cell_type": "code",
   "execution_count": 41,
   "metadata": {},
   "outputs": [
    {
     "data": {
      "text/plain": [
       "array([[1.72506818e-08, 1.06106382e-07, 1.45494440e-29, ...,\n",
       "        1.59597573e-39, 1.48179040e-21, 1.51260291e-41],\n",
       "       [7.85628289e-18, 7.31832140e-16, 1.16693902e-40, ...,\n",
       "        5.27098867e-18, 9.57539020e-01, 7.40362752e-22],\n",
       "       [9.03940060e-04, 5.26204970e-09, 9.99999988e-01, ...,\n",
       "        8.44987763e-39, 1.86852768e-03, 1.00000000e+00],\n",
       "       ...,\n",
       "       [9.36084488e-16, 4.93325869e-25, 1.56275940e-43, ...,\n",
       "        1.05635405e-25, 4.33485426e-13, 9.02589040e-19],\n",
       "       [5.30106689e-16, 1.63075730e-17, 2.57492265e-20, ...,\n",
       "        1.88997072e-46, 6.73690679e-22, 1.86619098e-32],\n",
       "       [9.45814167e-20, 2.30225315e-48, 2.56579395e-52, ...,\n",
       "        2.35559533e-47, 4.48777844e-12, 1.82393151e-33]])"
      ]
     },
     "execution_count": 41,
     "metadata": {},
     "output_type": "execute_result"
    }
   ],
   "source": [
    "H=np.matmul(theta, np.transpose(x_train))\n",
    "c=np.amax(H,axis=0)\n",
    "exp_matrix=np.exp(H-c)\n",
    "sum_vector = np.sum(exp_matrix,axis=0)\n",
    "exp_matrix/sum_vector"
   ]
  },
  {
   "cell_type": "code",
   "execution_count": 54,
   "metadata": {},
   "outputs": [
    {
     "data": {
      "text/plain": [
       "array([1, 0, 0, 0, 0, 0, 0, 0, 0, 0])"
      ]
     },
     "execution_count": 54,
     "metadata": {},
     "output_type": "execute_result"
    }
   ],
   "source": [
    "import scipy.sparse as sparse\n",
    "Y=y_train\n",
    "n=len(Y) #60.000\n",
    "k=theta.shape[0] #10\n",
    "data=[1]*n \n",
    "M = sparse.coo_matrix((data, (Y, range(n))), shape=(k,n)).toarray()\n"
   ]
  }
 ],
 "metadata": {
  "kernelspec": {
   "display_name": "e4_jupyter_notebook_assignment",
   "language": "python",
   "name": "python3"
  },
  "language_info": {
   "codemirror_mode": {
    "name": "ipython",
    "version": 3
   },
   "file_extension": ".py",
   "mimetype": "text/x-python",
   "name": "python",
   "nbconvert_exporter": "python",
   "pygments_lexer": "ipython3",
   "version": "3.10.12"
  }
 },
 "nbformat": 4,
 "nbformat_minor": 2
}
